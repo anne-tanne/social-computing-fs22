{
 "cells": [
  {
   "cell_type": "code",
   "execution_count": 1,
   "metadata": {},
   "outputs": [],
   "source": [
    "import pandas as pd\n",
    "import yfinance as yf\n",
    "import datetime"
   ]
  },
  {
   "cell_type": "code",
   "execution_count": 3,
   "metadata": {},
   "outputs": [],
   "source": [
    "shorts = ['AAPL', 'TWTR', 'GM', 'INTC', 'AMZN', 'TSLA', 'MSFT', 'GOOGL', 'AMD', 'ACN']\n",
    "firms = ['Apple', 'Twitter', 'GeneralMotors', 'Intel', 'Amazon', 'Tesla', 'Microsoft', 'Alphabet', 'AMD', 'Accenture']\n",
    "\n",
    "for short, firm in zip(shorts, firms):\n",
    "    ticker = yf.Ticker(short)\n",
    "    history = ticker.history(start='2019-01-01', end='2022-05-03', interval='1d')\n",
    "\n",
    "    history['average H/L'] = (history['High']+history['Low'])/2\n",
    "    history = history[['Open', 'High', 'Low', 'Close', 'average H/L']]\n",
    "    history = history.sort_index(ascending=False)\n",
    "    history.index.names = ['Date']\n",
    "    history.reset_index(inplace=True)\n",
    "\n",
    "    daily_fluc = []\n",
    "\n",
    "    for i, day in enumerate(history['average H/L']):\n",
    "        try:\n",
    "            daily_fluc.append((day/history.loc[i+1, 'average H/L']-1)*100)\n",
    "        except:\n",
    "            daily_fluc.append('NA')\n",
    "\n",
    "    history['daily fluc'] = daily_fluc\n",
    "    history=history.drop(history.index[-1])\n",
    "\n",
    "    mean_HT = history['daily fluc'].mean()\n",
    "    sd_HT = history['daily fluc'].std()\n",
    "    interval = 1.645*sd_HT/(1**(1/2))\n",
    "    conf_h = mean_HT+interval\n",
    "    conf_l = mean_HT-interval\n",
    "        \n",
    "    #eliminate irrelevant days\n",
    "    irrelevant = []\n",
    "\n",
    "    for i, fluc in enumerate(history['daily fluc']):\n",
    "        if fluc > conf_h or fluc < conf_l:\n",
    "            None\n",
    "        else:\n",
    "            irrelevant.append(i)\n",
    "\n",
    "    history = history.drop(history.index[irrelevant])\n",
    "    \n",
    "    history.to_csv(f'financial_data/{firm}_financial.csv')\n"
   ]
  }
 ],
 "metadata": {
  "kernelspec": {
   "display_name": "Python 3",
   "language": "python",
   "name": "python3"
  },
  "language_info": {
   "codemirror_mode": {
    "name": "ipython",
    "version": 3
   },
   "file_extension": ".py",
   "mimetype": "text/x-python",
   "name": "python",
   "nbconvert_exporter": "python",
   "pygments_lexer": "ipython3",
   "version": "3.8.5"
  }
 },
 "nbformat": 4,
 "nbformat_minor": 4
}
