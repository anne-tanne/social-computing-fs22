{
 "cells": [
  {
   "cell_type": "code",
   "execution_count": 1,
   "metadata": {},
   "outputs": [],
   "source": [
    "import tweepy\n",
    "import pandas as pd\n",
    "import datetime"
   ]
  },
  {
   "cell_type": "code",
   "execution_count": 2,
   "metadata": {},
   "outputs": [],
   "source": [
    "consumer_key = *****\n",
    "consumer_secret = *****\n",
    "access_token = *****\n",
    "access_token_secret = *****\n",
    "\n",
    "auth = tweepy.OAuthHandler(consumer_key, consumer_secret)\n",
    "auth.set_access_token(access_token, access_token_secret)\n",
    "api = tweepy.API(auth)"
   ]
  },
  {
   "cell_type": "code",
   "execution_count": 3,
   "metadata": {},
   "outputs": [],
   "source": [
    "ceos = ['tim_cook', 'PGelsinger', 'sundarpichai', 'mtbarra', 'lisasu', 'satyanadella', 'ajassy', 'paraga', 'juliesweet']"
   ]
  },
  {
   "cell_type": "code",
   "execution_count": 6,
   "metadata": {},
   "outputs": [],
   "source": [
    "for ceo in ceos:\n",
    "    user = ceo\n",
    "    limit=900\n",
    "\n",
    "    text = []\n",
    "    datetime = []\n",
    "    likes = []\n",
    "    retweets = []\n",
    "\n",
    "\n",
    "    tweets = tweepy.Cursor(api.user_timeline, screen_name=user, count=200, tweet_mode='extended').items(limit)\n",
    "\n",
    "    # create DataFrame\n",
    "    for i in tweets:\n",
    "        text.append(i.full_text)\n",
    "        datetime.append(i.created_at)\n",
    "        likes.append(i.favorite_count)\n",
    "        retweets.append(i.retweet_count)\n",
    "\n",
    "    tweets_df = pd.DataFrame({\"Text\":text, \"Likes\":likes, 'Retweets':retweets, \"Date-Time\":datetime})\n",
    "\n",
    "    dates = []\n",
    "    for timestamp in tweets_df['Date-Time']:\n",
    "        datetime = pd.to_datetime(timestamp, unit = 's')\n",
    "        date = datetime.date()\n",
    "        dates.append(date)\n",
    "    tweets_df['Date'] = dates\n",
    "    \n",
    "    tweets_df.to_csv(f'twitter_data/{ceo}_tweets.csv')"
   ]
  }
 ],
 "metadata": {
  "kernelspec": {
   "display_name": "Python 3 (ipykernel)",
   "language": "python",
   "name": "python3"
  },
  "language_info": {
   "codemirror_mode": {
    "name": "ipython",
    "version": 3
   },
   "file_extension": ".py",
   "mimetype": "text/x-python",
   "name": "python",
   "nbconvert_exporter": "python",
   "pygments_lexer": "ipython3",
   "version": "3.9.7"
  }
 },
 "nbformat": 4,
 "nbformat_minor": 4
}
