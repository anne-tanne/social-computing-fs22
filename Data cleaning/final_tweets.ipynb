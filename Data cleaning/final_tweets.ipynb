{
 "cells": [
  {
   "cell_type": "code",
   "execution_count": 3,
   "metadata": {},
   "outputs": [],
   "source": [
    "import pandas as pd\n",
    "import os\n",
    "from datetime import datetime\n",
    "from datetime import timedelta "
   ]
  },
  {
   "cell_type": "code",
   "execution_count": 54,
   "metadata": {},
   "outputs": [],
   "source": [
    "def select_tweets(finance, twitter, firm):\n",
    "    relevant_days = []\n",
    "    val = {}\n",
    "    for day in finance['Date']:\n",
    "        day = datetime.strptime(str(day), '%Y-%m-%d').date()\n",
    "        days = [day, day-timedelta(days=1), day-timedelta(days=2)]\n",
    "        for x in days:\n",
    "            if not x in relevant_days:\n",
    "                relevant_days.append(str(x))\n",
    "                val[str(x)] = finance.loc[finance.Date==str(day), 'daily fluc'].values[0]\n",
    "        \n",
    "    \n",
    "    final_tweets = twitter[twitter['Date'].isin(relevant_days)]\n",
    "    fluc_list = []\n",
    "    for date in final_tweets['Date']:\n",
    "        try:\n",
    "            fluc_list.append(val[date])\n",
    "        except:\n",
    "            fluc_list.append('NA')\n",
    "        \n",
    "    final_tweets['daily fluc'] = fluc_list\n",
    "    final_tweets.to_csv(f'final_tweets/{firm}_final.csv')\n"
   ]
  },
  {
   "cell_type": "code",
   "execution_count": 55,
   "metadata": {},
   "outputs": [
    {
     "name": "stderr",
     "output_type": "stream",
     "text": [
      "C:\\Users\\samra\\AppData\\Local\\Temp\\ipykernel_30952\\3137397905.py:21: SettingWithCopyWarning: \n",
      "A value is trying to be set on a copy of a slice from a DataFrame.\n",
      "Try using .loc[row_indexer,col_indexer] = value instead\n",
      "\n",
      "See the caveats in the documentation: https://pandas.pydata.org/pandas-docs/stable/user_guide/indexing.html#returning-a-view-versus-a-copy\n",
      "  final_tweets['daily fluc'] = fluc_list\n",
      "C:\\Users\\samra\\AppData\\Local\\Temp\\ipykernel_30952\\3137397905.py:21: SettingWithCopyWarning: \n",
      "A value is trying to be set on a copy of a slice from a DataFrame.\n",
      "Try using .loc[row_indexer,col_indexer] = value instead\n",
      "\n",
      "See the caveats in the documentation: https://pandas.pydata.org/pandas-docs/stable/user_guide/indexing.html#returning-a-view-versus-a-copy\n",
      "  final_tweets['daily fluc'] = fluc_list\n",
      "C:\\Users\\samra\\AppData\\Local\\Temp\\ipykernel_30952\\3137397905.py:21: SettingWithCopyWarning: \n",
      "A value is trying to be set on a copy of a slice from a DataFrame.\n",
      "Try using .loc[row_indexer,col_indexer] = value instead\n",
      "\n",
      "See the caveats in the documentation: https://pandas.pydata.org/pandas-docs/stable/user_guide/indexing.html#returning-a-view-versus-a-copy\n",
      "  final_tweets['daily fluc'] = fluc_list\n",
      "C:\\Users\\samra\\AppData\\Local\\Temp\\ipykernel_30952\\3137397905.py:21: SettingWithCopyWarning: \n",
      "A value is trying to be set on a copy of a slice from a DataFrame.\n",
      "Try using .loc[row_indexer,col_indexer] = value instead\n",
      "\n",
      "See the caveats in the documentation: https://pandas.pydata.org/pandas-docs/stable/user_guide/indexing.html#returning-a-view-versus-a-copy\n",
      "  final_tweets['daily fluc'] = fluc_list\n",
      "C:\\Users\\samra\\AppData\\Local\\Temp\\ipykernel_30952\\3137397905.py:21: SettingWithCopyWarning: \n",
      "A value is trying to be set on a copy of a slice from a DataFrame.\n",
      "Try using .loc[row_indexer,col_indexer] = value instead\n",
      "\n",
      "See the caveats in the documentation: https://pandas.pydata.org/pandas-docs/stable/user_guide/indexing.html#returning-a-view-versus-a-copy\n",
      "  final_tweets['daily fluc'] = fluc_list\n",
      "C:\\Users\\samra\\AppData\\Local\\Temp\\ipykernel_30952\\3137397905.py:21: SettingWithCopyWarning: \n",
      "A value is trying to be set on a copy of a slice from a DataFrame.\n",
      "Try using .loc[row_indexer,col_indexer] = value instead\n",
      "\n",
      "See the caveats in the documentation: https://pandas.pydata.org/pandas-docs/stable/user_guide/indexing.html#returning-a-view-versus-a-copy\n",
      "  final_tweets['daily fluc'] = fluc_list\n",
      "C:\\Users\\samra\\AppData\\Local\\Temp\\ipykernel_30952\\3137397905.py:21: SettingWithCopyWarning: \n",
      "A value is trying to be set on a copy of a slice from a DataFrame.\n",
      "Try using .loc[row_indexer,col_indexer] = value instead\n",
      "\n",
      "See the caveats in the documentation: https://pandas.pydata.org/pandas-docs/stable/user_guide/indexing.html#returning-a-view-versus-a-copy\n",
      "  final_tweets['daily fluc'] = fluc_list\n",
      "C:\\Users\\samra\\AppData\\Local\\Temp\\ipykernel_30952\\3137397905.py:21: SettingWithCopyWarning: \n",
      "A value is trying to be set on a copy of a slice from a DataFrame.\n",
      "Try using .loc[row_indexer,col_indexer] = value instead\n",
      "\n",
      "See the caveats in the documentation: https://pandas.pydata.org/pandas-docs/stable/user_guide/indexing.html#returning-a-view-versus-a-copy\n",
      "  final_tweets['daily fluc'] = fluc_list\n",
      "C:\\Users\\samra\\AppData\\Local\\Temp\\ipykernel_30952\\3137397905.py:21: SettingWithCopyWarning: \n",
      "A value is trying to be set on a copy of a slice from a DataFrame.\n",
      "Try using .loc[row_indexer,col_indexer] = value instead\n",
      "\n",
      "See the caveats in the documentation: https://pandas.pydata.org/pandas-docs/stable/user_guide/indexing.html#returning-a-view-versus-a-copy\n",
      "  final_tweets['daily fluc'] = fluc_list\n"
     ]
    }
   ],
   "source": [
    "#without Elon Musk\n",
    "\n",
    "firms = ['Apple', 'Twitter', 'GeneralMotors', 'Intel', 'Amazon', 'Microsoft', 'Alphabet', 'AMD', 'Accenture']\n",
    "ceos = ['tim_cook', 'paraga', 'mtbarra', 'PGelsinger', 'ajassy', 'satyanadella', 'sundarpichai',  'lisasu', 'juliesweet']\n",
    "\n",
    "for firm, ceo in zip(firms, ceos):\n",
    "    firm_data = pd.read_csv(f'financial_data/{firm}_financial.csv')\n",
    "    ceo_tweets = pd.read_csv(f'twitter_data/{ceo}_tweets.csv')\n",
    "    select_tweets(firm_data, ceo_tweets, firm)"
   ]
  }
 ],
 "metadata": {
  "kernelspec": {
   "display_name": "Python 3 (ipykernel)",
   "language": "python",
   "name": "python3"
  },
  "language_info": {
   "codemirror_mode": {
    "name": "ipython",
    "version": 3
   },
   "file_extension": ".py",
   "mimetype": "text/x-python",
   "name": "python",
   "nbconvert_exporter": "python",
   "pygments_lexer": "ipython3",
   "version": "3.9.7"
  }
 },
 "nbformat": 4,
 "nbformat_minor": 4
}
